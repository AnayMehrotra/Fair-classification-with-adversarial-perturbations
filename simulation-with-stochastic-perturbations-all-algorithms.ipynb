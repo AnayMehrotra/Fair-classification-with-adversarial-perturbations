{
 "cells": [
  {
   "cell_type": "markdown",
   "id": "04f7a32d",
   "metadata": {},
   "source": [
    "# Simulation on flipping noise (Figure 5)"
   ]
  },
  {
   "cell_type": "markdown",
   "id": "4a2da5c9",
   "metadata": {},
   "source": [
    "This notebook contains the code for the simulation with flipping noise on COMPAS "
   ]
  },
  {
   "cell_type": "code",
   "execution_count": null,
   "id": "5da2274e",
   "metadata": {},
   "outputs": [],
   "source": [
    "%load_ext autoreload\n",
    "%autoreload 2\n",
    "\n",
    "# general imports\n",
    "import numpy as np\n",
    "import sys, random\n",
    "import os, warnings\n",
    "import itertools as iter\n",
    "from copy import deepcopy\n",
    "from tqdm.notebook import tqdm\n",
    "import matplotlib.pyplot as plt\n",
    "from joblib import Parallel, delayed\n",
    "from sklearn.linear_model import LogisticRegression\n",
    "warnings.filterwarnings(\"ignore\")\n",
    "warnings.filterwarnings(\"ignore\", category=FutureWarning)\n",
    "np.warnings.filterwarnings('ignore', category=np.VisibleDeprecationWarning)\n",
    "\n",
    "# initialization\n",
    "rng = np.random.default_rng(1234)\n",
    "random.seed()\n",
    "\n",
    "# add to path\n",
    "print(os.getcwd())\n",
    "sys.path.append(os.getcwd())\n",
    "\n",
    "# import ai360\n",
    "from aif360.datasets import BinaryLabelDataset\n",
    "from aif360.datasets import AdultDataset, CompasDataset\n",
    "from aif360.algorithms.preprocessing.optim_preproc_helpers.data_preproc_functions import load_preproc_data_adult, load_preproc_data_compas\n",
    "\n",
    "# import main code\n",
    "from utils import *\n",
    "import algorithms as denoisedfair\n",
    "from lamy_noise_fairlearn.util import *\n",
    "from awasthi_equalized_odds_under_perturbation.equalized_odds import *\n",
    "\n",
    "from scipy.optimize import minimize"
   ]
  },
  {
   "cell_type": "code",
   "execution_count": null,
   "id": "fd5143a3",
   "metadata": {},
   "outputs": [],
   "source": [
    "exec(open('baseSimulation.py').read())"
   ]
  },
  {
   "cell_type": "code",
   "execution_count": null,
   "id": "696ad530",
   "metadata": {},
   "outputs": [],
   "source": [
    "result_folder = 'results'\n",
    "os.system(f'mkdir {result_folder}')"
   ]
  },
  {
   "cell_type": "markdown",
   "id": "0b64576a",
   "metadata": {},
   "source": [
    "## Simulation code"
   ]
  },
  {
   "cell_type": "code",
   "execution_count": null,
   "id": "1ce6a382",
   "metadata": {},
   "outputs": [],
   "source": [
    "# which algorithms to skip?\n",
    "skipUnconstrained = False\n",
    "\n",
    "skipErrTolerant = False\n",
    "skipLamy =  False\n",
    "skipAwasthi =  False\n",
    "skipKL21 =  False\n",
    "skipDenoised = False\n",
    "\n",
    "assert(skipAwasthi or not skipUnconstrained)\n",
    "\n",
    "runParallel = True"
   ]
  },
  {
   "cell_type": "markdown",
   "id": "5050066b",
   "metadata": {},
   "source": [
    "## Running the simulation"
   ]
  },
  {
   "cell_type": "code",
   "execution_count": null,
   "id": "885070a0",
   "metadata": {},
   "outputs": [],
   "source": [
    "reps = 100\n",
    "CORES = 10\n",
    "flip_func = flipping"
   ]
  },
  {
   "cell_type": "code",
   "execution_count": null,
   "id": "01cdbb13",
   "metadata": {},
   "outputs": [],
   "source": [
    "all_results = {}\n",
    "for e1 in tqdm([0.0, 0.035]):\n",
    "    for e2 in tqdm([0.035, 0.0]):\n",
    "        st = time.time()\n",
    "        \n",
    "        eta = [e1, e2]\n",
    "        all_results[(e1,e2)] = test_predict_product(eta, flip_func, reps=reps, CORES=CORES, metric='sr', get_eta_avg=True)\n",
    "        \n",
    "        print(f'Time per loop: {time.time() - st} seconds')\n",
    "        \n",
    "        index = {0.035: 1, 0: 0}\n",
    "        f = open(f'{result_folder}/StocNoise-{index[e1]}{index[e2]}-{reps}iter', 'wb')\n",
    "        pickle.dump(all_results, f)"
   ]
  }
 ],
 "metadata": {
  "kernelspec": {
   "display_name": "Python 3",
   "language": "python",
   "name": "python3"
  },
  "language_info": {
   "codemirror_mode": {
    "name": "ipython",
    "version": 3
   },
   "file_extension": ".py",
   "mimetype": "text/x-python",
   "name": "python",
   "nbconvert_exporter": "python",
   "pygments_lexer": "ipython3",
   "version": "3.6.9"
  }
 },
 "nbformat": 4,
 "nbformat_minor": 5
}
