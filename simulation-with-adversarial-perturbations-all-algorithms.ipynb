{
 "cells": [
  {
   "cell_type": "markdown",
   "id": "dc5a139c",
   "metadata": {},
   "source": [
    "# Simulation on synthetic data (Figure 1 and Figure 7)"
   ]
  },
  {
   "cell_type": "markdown",
   "id": "a04f0aec",
   "metadata": {},
   "source": [
    "This notebook contains the code for the simulation on the synthetic data"
   ]
  },
  {
   "cell_type": "code",
   "execution_count": null,
   "id": "1adfd9b3",
   "metadata": {},
   "outputs": [],
   "source": [
    "%load_ext autoreload\n",
    "%autoreload 2\n",
    "\n",
    "# general imports\n",
    "import numpy as np\n",
    "import sys, random\n",
    "import os, warnings\n",
    "import itertools as iter\n",
    "from copy import deepcopy\n",
    "from tqdm.notebook import tqdm\n",
    "import matplotlib.pyplot as plt\n",
    "from joblib import Parallel, delayed\n",
    "from sklearn.linear_model import LogisticRegression\n",
    "warnings.filterwarnings(\"ignore\")\n",
    "warnings.filterwarnings(\"ignore\", category=FutureWarning)\n",
    "np.warnings.filterwarnings('ignore', category=np.VisibleDeprecationWarning)\n",
    "\n",
    "# initialization\n",
    "rng = np.random.default_rng(1234)\n",
    "random.seed()\n",
    "\n",
    "# add to path\n",
    "print(os.getcwd())\n",
    "sys.path.append(os.getcwd())\n",
    "\n",
    "# import ai360\n",
    "from aif360.datasets import BinaryLabelDataset\n",
    "from aif360.datasets import AdultDataset, CompasDataset\n",
    "from aif360.algorithms.preprocessing.optim_preproc_helpers.data_preproc_functions import load_preproc_data_adult, load_preproc_data_compas\n",
    "\n",
    "# import main code\n",
    "from utils import *\n",
    "import algorithms as denoisedfair\n",
    "from lamy_noise_fairlearn.util import *\n",
    "from awasthi_equalized_odds_under_perturbation.equalized_odds import *\n",
    "\n",
    "from scipy.optimize import minimize"
   ]
  },
  {
   "cell_type": "code",
   "execution_count": null,
   "id": "478b7ebc",
   "metadata": {},
   "outputs": [],
   "source": [
    "exec(open('baseSimulation.py').read())"
   ]
  },
  {
   "cell_type": "code",
   "execution_count": null,
   "id": "7c57e296",
   "metadata": {},
   "outputs": [],
   "source": [
    "result_folder = 'results'\n",
    "os.system(f'mkdir {result_folder}')"
   ]
  },
  {
   "cell_type": "markdown",
   "id": "7e4fc74d",
   "metadata": {},
   "source": [
    "## Initialization"
   ]
  },
  {
   "cell_type": "code",
   "execution_count": null,
   "id": "92aabb96",
   "metadata": {},
   "outputs": [],
   "source": [
    "# which algorithms to skip?\n",
    "skipUnconstrained = False\n",
    "\n",
    "skipErrTolerant = False\n",
    "skipLamy =  False\n",
    "skipAwasthi =  False\n",
    "skipKL21 =  False\n",
    "skipDenoised = False\n",
    "\n",
    "assert(skipAwasthi or not skipUnconstrained)\n",
    "\n",
    "runParallel = True"
   ]
  },
  {
   "cell_type": "code",
   "execution_count": null,
   "id": "214e8464",
   "metadata": {},
   "outputs": [],
   "source": [
    "reps = 100\n",
    "CORES = 10\n",
    "etaSR = 0.035\n",
    "etaFPR = 0.01725"
   ]
  },
  {
   "cell_type": "markdown",
   "id": "c0f801a2",
   "metadata": {},
   "source": [
    "## Running SR simulation (Figure 1)"
   ]
  },
  {
   "cell_type": "code",
   "execution_count": null,
   "id": "d59bb1e2",
   "metadata": {},
   "outputs": [],
   "source": [
    "eta = [etaSR,0]"
   ]
  },
  {
   "cell_type": "markdown",
   "id": "82c3e6f9",
   "metadata": {},
   "source": [
    "### Adversary: A_TN"
   ]
  },
  {
   "cell_type": "code",
   "execution_count": null,
   "id": "e35a8433",
   "metadata": {
    "code_folding": []
   },
   "outputs": [],
   "source": [
    "all_results = {}\n",
    "flip_func = flipping_far_from_boundary_TN\n",
    "\n",
    "all_results[etaSR] = test_predict_product(eta, flip_func, reps=reps, CORES=CORES)\n",
    "\n",
    "f = open(f'{result_folder}/SR-A_TN-{reps}iter', 'wb')\n",
    "pickle.dump(all_results, f)"
   ]
  },
  {
   "cell_type": "markdown",
   "id": "b05b0f50",
   "metadata": {},
   "source": [
    "### Adversary: A_FN"
   ]
  },
  {
   "cell_type": "code",
   "execution_count": null,
   "id": "b2513ea5",
   "metadata": {},
   "outputs": [],
   "source": [
    "all_results = {}\n",
    "flip_func = flipping_far_from_boundary_FN\n",
    "\n",
    "all_results[etaSR] = test_predict_product(eta, flip_func, reps=reps, CORES=CORES)\n",
    "\n",
    "f = open(f'{result_folder}/SR-A_FN-{reps}iter', 'wb')\n",
    "pickle.dump(all_results, f)"
   ]
  },
  {
   "cell_type": "markdown",
   "id": "6b11ecff",
   "metadata": {},
   "source": [
    "## Running FPR simulation (Figure 7)"
   ]
  },
  {
   "cell_type": "code",
   "execution_count": null,
   "id": "288f0041",
   "metadata": {},
   "outputs": [],
   "source": [
    "eta = [etaFPR,0]"
   ]
  },
  {
   "cell_type": "code",
   "execution_count": null,
   "id": "e47b7ef3",
   "metadata": {},
   "outputs": [],
   "source": [
    "# which algorithms to skip?\n",
    "skipUnconstrained = False\n",
    "\n",
    "skipErrTolerant = False\n",
    "skipLamy =  True\n",
    "skipAwasthi =  False\n",
    "skipKL21 =  False\n",
    "skipDenoised = False\n",
    "\n",
    "assert(skipAwasthi or not skipUnconstrained)\n",
    "\n",
    "runParallel = True"
   ]
  },
  {
   "cell_type": "markdown",
   "id": "25d70a71",
   "metadata": {},
   "source": [
    "### Adversary: A_TN"
   ]
  },
  {
   "cell_type": "code",
   "execution_count": null,
   "id": "5c3df14e",
   "metadata": {
    "code_folding": []
   },
   "outputs": [],
   "source": [
    "all_results = {}\n",
    "flip_func = flipping_far_from_boundary_TN\n",
    "\n",
    "all_results[etaFPR] = test_predict_product(eta, flip_func, reps=reps, CORES=CORES, metric='fpr')\n",
    "\n",
    "f = open(f'{result_folder}/FPR-A_TN-{reps}iter', 'wb')\n",
    "pickle.dump(all_results, f)"
   ]
  },
  {
   "cell_type": "markdown",
   "id": "b5358783",
   "metadata": {},
   "source": [
    "### Adversary: A_FN"
   ]
  },
  {
   "cell_type": "code",
   "execution_count": null,
   "id": "04cb8420",
   "metadata": {
    "code_folding": []
   },
   "outputs": [],
   "source": [
    "all_results = {}\n",
    "flip_func = flipping_far_from_boundary_FN\n",
    "\n",
    "all_results[etaFPR] = test_predict_product(eta, flip_func, reps=reps, CORES=CORES, metric='fpr')\n",
    "\n",
    "f = open(f'{result_folder}/FPR-A_FN-{reps}iter', 'wb')\n",
    "pickle.dump(all_results, f)"
   ]
  }
 ],
 "metadata": {
  "kernelspec": {
   "display_name": "Python 3",
   "language": "python",
   "name": "python3"
  },
  "language_info": {
   "codemirror_mode": {
    "name": "ipython",
    "version": 3
   },
   "file_extension": ".py",
   "mimetype": "text/x-python",
   "name": "python",
   "nbconvert_exporter": "python",
   "pygments_lexer": "ipython3",
   "version": "3.6.9"
  }
 },
 "nbformat": 4,
 "nbformat_minor": 5
}
